{
 "cells": [
  {
   "cell_type": "code",
   "execution_count": 1,
   "id": "1ae42d00",
   "metadata": {
    "tags": [
     "aa81075c-062f-4de0-b5fe-14c73dc7468e"
    ]
   },
   "outputs": [],
   "source": [
    "import pandas as pd\n",
    "import numpy as np\n",
    "\n",
    "from sqlalchemy import create_engine"
   ]
  },
  {
   "cell_type": "code",
   "execution_count": 2,
   "id": "4b6057d1",
   "metadata": {},
   "outputs": [],
   "source": [
    "path_to_db = '/datasets/telecomm_csi.db'\n",
    "engine = create_engine(f'sqlite:///{path_to_db}', echo = False)"
   ]
  },
  {
   "cell_type": "code",
   "execution_count": 3,
   "id": "ec364318",
   "metadata": {},
   "outputs": [],
   "source": [
    "#downloading data using sql query\n",
    "query = \"\"\"\n",
    " SELECT u.user_id,\n",
    "        u.lt_day,\n",
    "        \n",
    "         CASE\n",
    "             WHEN lt_day>365 THEN 'old'\n",
    "             ELSE 'new'\n",
    "         END \n",
    "         AS is_new,\n",
    "         u.age,\n",
    "         u.os_name,\n",
    "         CASE\n",
    "              WHEN u.gender_segment=1 THEN 'female'\n",
    "              WHEN u.gender_segment=0 THEN'male'\n",
    "              ELSE 'none'\n",
    "         END as gender_segment,\n",
    "        u.cpe_type_name,\n",
    "        l.country,\n",
    "        l.city,\n",
    "        a.title as age_segment,\n",
    "        t.title as traffic_segment,\n",
    "        l.title as lifetime_segment,\n",
    "        u.nps_score,\n",
    "        CASE\n",
    "            WHEN u.nps_score >=0 and u.nps_score<=6 THEN 'критики'\n",
    "            WHEN u.nps_score >=7 and u.nps_score<=8 THEN 'нейтральные'\n",
    "            ELSE 'сторонники'\n",
    "        END\n",
    "        AS npc_group\n",
    "        \n",
    " FROM user as u\n",
    " JOIN location as l on u.location_id=l.location_id\n",
    "  JOIN age_segment as a on u.age_gr_id=a.age_gr_id\n",
    " JOIN traffic_segment as t on u.tr_gr_id=t.tr_gr_id\n",
    " JOIN lifetime_segment as l on u.lt_gr_id=l.lt_gr_id\n",
    "\"\"\""
   ]
  },
  {
   "cell_type": "code",
   "execution_count": 4,
   "id": "787dd93b",
   "metadata": {
    "scrolled": true
   },
   "outputs": [
    {
     "data": {
      "text/html": [
       "<div>\n",
       "<style scoped>\n",
       "    .dataframe tbody tr th:only-of-type {\n",
       "        vertical-align: middle;\n",
       "    }\n",
       "\n",
       "    .dataframe tbody tr th {\n",
       "        vertical-align: top;\n",
       "    }\n",
       "\n",
       "    .dataframe thead th {\n",
       "        text-align: right;\n",
       "    }\n",
       "</style>\n",
       "<table border=\"1\" class=\"dataframe\">\n",
       "  <thead>\n",
       "    <tr style=\"text-align: right;\">\n",
       "      <th></th>\n",
       "      <th>user_id</th>\n",
       "      <th>lt_day</th>\n",
       "      <th>is_new</th>\n",
       "      <th>age</th>\n",
       "      <th>os_name</th>\n",
       "      <th>gender_segment</th>\n",
       "      <th>cpe_type_name</th>\n",
       "      <th>country</th>\n",
       "      <th>city</th>\n",
       "      <th>age_segment</th>\n",
       "      <th>traffic_segment</th>\n",
       "      <th>lifetime_segment</th>\n",
       "      <th>nps_score</th>\n",
       "      <th>npc_group</th>\n",
       "    </tr>\n",
       "  </thead>\n",
       "  <tbody>\n",
       "    <tr>\n",
       "      <th>0</th>\n",
       "      <td>A001A2</td>\n",
       "      <td>2320</td>\n",
       "      <td>old</td>\n",
       "      <td>45.0</td>\n",
       "      <td>ANDROID</td>\n",
       "      <td>female</td>\n",
       "      <td>SMARTPHONE</td>\n",
       "      <td>Россия</td>\n",
       "      <td>Уфа</td>\n",
       "      <td>05 45-54</td>\n",
       "      <td>04 1-5</td>\n",
       "      <td>08 36+</td>\n",
       "      <td>10</td>\n",
       "      <td>сторонники</td>\n",
       "    </tr>\n",
       "    <tr>\n",
       "      <th>1</th>\n",
       "      <td>A001WF</td>\n",
       "      <td>2344</td>\n",
       "      <td>old</td>\n",
       "      <td>53.0</td>\n",
       "      <td>ANDROID</td>\n",
       "      <td>male</td>\n",
       "      <td>SMARTPHONE</td>\n",
       "      <td>Россия</td>\n",
       "      <td>Киров</td>\n",
       "      <td>05 45-54</td>\n",
       "      <td>04 1-5</td>\n",
       "      <td>08 36+</td>\n",
       "      <td>10</td>\n",
       "      <td>сторонники</td>\n",
       "    </tr>\n",
       "    <tr>\n",
       "      <th>2</th>\n",
       "      <td>A003Q7</td>\n",
       "      <td>467</td>\n",
       "      <td>old</td>\n",
       "      <td>57.0</td>\n",
       "      <td>ANDROID</td>\n",
       "      <td>male</td>\n",
       "      <td>SMARTPHONE</td>\n",
       "      <td>Россия</td>\n",
       "      <td>Москва</td>\n",
       "      <td>06 55-64</td>\n",
       "      <td>08 20-25</td>\n",
       "      <td>06 13-24</td>\n",
       "      <td>10</td>\n",
       "      <td>сторонники</td>\n",
       "    </tr>\n",
       "    <tr>\n",
       "      <th>3</th>\n",
       "      <td>A004TB</td>\n",
       "      <td>4190</td>\n",
       "      <td>old</td>\n",
       "      <td>44.0</td>\n",
       "      <td>IOS</td>\n",
       "      <td>female</td>\n",
       "      <td>SMARTPHONE</td>\n",
       "      <td>Россия</td>\n",
       "      <td>РостовнаДону</td>\n",
       "      <td>04 35-44</td>\n",
       "      <td>03 0.1-1</td>\n",
       "      <td>08 36+</td>\n",
       "      <td>10</td>\n",
       "      <td>сторонники</td>\n",
       "    </tr>\n",
       "    <tr>\n",
       "      <th>4</th>\n",
       "      <td>A004XT</td>\n",
       "      <td>1163</td>\n",
       "      <td>old</td>\n",
       "      <td>24.0</td>\n",
       "      <td>ANDROID</td>\n",
       "      <td>male</td>\n",
       "      <td>SMARTPHONE</td>\n",
       "      <td>Россия</td>\n",
       "      <td>Рязань</td>\n",
       "      <td>02 16-24</td>\n",
       "      <td>05 5-10</td>\n",
       "      <td>08 36+</td>\n",
       "      <td>10</td>\n",
       "      <td>сторонники</td>\n",
       "    </tr>\n",
       "    <tr>\n",
       "      <th>5</th>\n",
       "      <td>A005O0</td>\n",
       "      <td>5501</td>\n",
       "      <td>old</td>\n",
       "      <td>42.0</td>\n",
       "      <td>ANDROID</td>\n",
       "      <td>female</td>\n",
       "      <td>SMARTPHONE</td>\n",
       "      <td>Россия</td>\n",
       "      <td>Омск</td>\n",
       "      <td>04 35-44</td>\n",
       "      <td>05 5-10</td>\n",
       "      <td>08 36+</td>\n",
       "      <td>6</td>\n",
       "      <td>критики</td>\n",
       "    </tr>\n",
       "    <tr>\n",
       "      <th>6</th>\n",
       "      <td>A0061R</td>\n",
       "      <td>1236</td>\n",
       "      <td>old</td>\n",
       "      <td>45.0</td>\n",
       "      <td>ANDROID</td>\n",
       "      <td>male</td>\n",
       "      <td>SMARTPHONE</td>\n",
       "      <td>Россия</td>\n",
       "      <td>Уфа</td>\n",
       "      <td>05 45-54</td>\n",
       "      <td>06 10-15</td>\n",
       "      <td>08 36+</td>\n",
       "      <td>10</td>\n",
       "      <td>сторонники</td>\n",
       "    </tr>\n",
       "    <tr>\n",
       "      <th>7</th>\n",
       "      <td>A009KS</td>\n",
       "      <td>313</td>\n",
       "      <td>new</td>\n",
       "      <td>35.0</td>\n",
       "      <td>ANDROID</td>\n",
       "      <td>male</td>\n",
       "      <td>SMARTPHONE</td>\n",
       "      <td>Россия</td>\n",
       "      <td>Москва</td>\n",
       "      <td>04 35-44</td>\n",
       "      <td>13 45-50</td>\n",
       "      <td>05 7-12</td>\n",
       "      <td>10</td>\n",
       "      <td>сторонники</td>\n",
       "    </tr>\n",
       "    <tr>\n",
       "      <th>8</th>\n",
       "      <td>A00AES</td>\n",
       "      <td>3238</td>\n",
       "      <td>old</td>\n",
       "      <td>36.0</td>\n",
       "      <td>ANDROID</td>\n",
       "      <td>female</td>\n",
       "      <td>SMARTPHONE</td>\n",
       "      <td>Россия</td>\n",
       "      <td>СанктПетербург</td>\n",
       "      <td>04 35-44</td>\n",
       "      <td>04 1-5</td>\n",
       "      <td>08 36+</td>\n",
       "      <td>10</td>\n",
       "      <td>сторонники</td>\n",
       "    </tr>\n",
       "    <tr>\n",
       "      <th>9</th>\n",
       "      <td>A00F70</td>\n",
       "      <td>4479</td>\n",
       "      <td>old</td>\n",
       "      <td>54.0</td>\n",
       "      <td>ANDROID</td>\n",
       "      <td>female</td>\n",
       "      <td>SMARTPHONE</td>\n",
       "      <td>Россия</td>\n",
       "      <td>Волгоград</td>\n",
       "      <td>05 45-54</td>\n",
       "      <td>07 15-20</td>\n",
       "      <td>08 36+</td>\n",
       "      <td>9</td>\n",
       "      <td>сторонники</td>\n",
       "    </tr>\n",
       "    <tr>\n",
       "      <th>10</th>\n",
       "      <td>A00HL5</td>\n",
       "      <td>5297</td>\n",
       "      <td>old</td>\n",
       "      <td>39.0</td>\n",
       "      <td>ANDROID</td>\n",
       "      <td>male</td>\n",
       "      <td>SMARTPHONE</td>\n",
       "      <td>Россия</td>\n",
       "      <td>Тольятти</td>\n",
       "      <td>04 35-44</td>\n",
       "      <td>09 25-30</td>\n",
       "      <td>08 36+</td>\n",
       "      <td>10</td>\n",
       "      <td>сторонники</td>\n",
       "    </tr>\n",
       "    <tr>\n",
       "      <th>11</th>\n",
       "      <td>A00NDN</td>\n",
       "      <td>1374</td>\n",
       "      <td>old</td>\n",
       "      <td>21.0</td>\n",
       "      <td>ANDROID</td>\n",
       "      <td>male</td>\n",
       "      <td>SMARTPHONE</td>\n",
       "      <td>Россия</td>\n",
       "      <td>Рязань</td>\n",
       "      <td>02 16-24</td>\n",
       "      <td>06 10-15</td>\n",
       "      <td>08 36+</td>\n",
       "      <td>2</td>\n",
       "      <td>критики</td>\n",
       "    </tr>\n",
       "    <tr>\n",
       "      <th>12</th>\n",
       "      <td>A00P46</td>\n",
       "      <td>179</td>\n",
       "      <td>new</td>\n",
       "      <td>27.0</td>\n",
       "      <td>ANDROID</td>\n",
       "      <td>male</td>\n",
       "      <td>SMARTPHONE</td>\n",
       "      <td>Россия</td>\n",
       "      <td>Казань</td>\n",
       "      <td>03 25-34</td>\n",
       "      <td>13 45-50</td>\n",
       "      <td>04 4-6</td>\n",
       "      <td>10</td>\n",
       "      <td>сторонники</td>\n",
       "    </tr>\n",
       "    <tr>\n",
       "      <th>13</th>\n",
       "      <td>A00SA7</td>\n",
       "      <td>667</td>\n",
       "      <td>old</td>\n",
       "      <td>60.0</td>\n",
       "      <td>ANDROID</td>\n",
       "      <td>male</td>\n",
       "      <td>TABLET</td>\n",
       "      <td>Россия</td>\n",
       "      <td>Казань</td>\n",
       "      <td>06 55-64</td>\n",
       "      <td>05 5-10</td>\n",
       "      <td>06 13-24</td>\n",
       "      <td>5</td>\n",
       "      <td>критики</td>\n",
       "    </tr>\n",
       "    <tr>\n",
       "      <th>14</th>\n",
       "      <td>A00U8A</td>\n",
       "      <td>2908</td>\n",
       "      <td>old</td>\n",
       "      <td>44.0</td>\n",
       "      <td>ANDROID</td>\n",
       "      <td>female</td>\n",
       "      <td>SMARTPHONE</td>\n",
       "      <td>Россия</td>\n",
       "      <td>СанктПетербург</td>\n",
       "      <td>04 35-44</td>\n",
       "      <td>05 5-10</td>\n",
       "      <td>08 36+</td>\n",
       "      <td>10</td>\n",
       "      <td>сторонники</td>\n",
       "    </tr>\n",
       "  </tbody>\n",
       "</table>\n",
       "</div>"
      ],
      "text/plain": [
       "   user_id  lt_day is_new   age  os_name gender_segment cpe_type_name country  \\\n",
       "0   A001A2    2320    old  45.0  ANDROID         female    SMARTPHONE  Россия   \n",
       "1   A001WF    2344    old  53.0  ANDROID           male    SMARTPHONE  Россия   \n",
       "2   A003Q7     467    old  57.0  ANDROID           male    SMARTPHONE  Россия   \n",
       "3   A004TB    4190    old  44.0      IOS         female    SMARTPHONE  Россия   \n",
       "4   A004XT    1163    old  24.0  ANDROID           male    SMARTPHONE  Россия   \n",
       "5   A005O0    5501    old  42.0  ANDROID         female    SMARTPHONE  Россия   \n",
       "6   A0061R    1236    old  45.0  ANDROID           male    SMARTPHONE  Россия   \n",
       "7   A009KS     313    new  35.0  ANDROID           male    SMARTPHONE  Россия   \n",
       "8   A00AES    3238    old  36.0  ANDROID         female    SMARTPHONE  Россия   \n",
       "9   A00F70    4479    old  54.0  ANDROID         female    SMARTPHONE  Россия   \n",
       "10  A00HL5    5297    old  39.0  ANDROID           male    SMARTPHONE  Россия   \n",
       "11  A00NDN    1374    old  21.0  ANDROID           male    SMARTPHONE  Россия   \n",
       "12  A00P46     179    new  27.0  ANDROID           male    SMARTPHONE  Россия   \n",
       "13  A00SA7     667    old  60.0  ANDROID           male        TABLET  Россия   \n",
       "14  A00U8A    2908    old  44.0  ANDROID         female    SMARTPHONE  Россия   \n",
       "\n",
       "              city age_segment traffic_segment lifetime_segment  nps_score  \\\n",
       "0              Уфа    05 45-54          04 1-5           08 36+         10   \n",
       "1            Киров    05 45-54          04 1-5           08 36+         10   \n",
       "2           Москва    06 55-64        08 20-25         06 13-24         10   \n",
       "3     РостовнаДону    04 35-44        03 0.1-1           08 36+         10   \n",
       "4           Рязань    02 16-24         05 5-10           08 36+         10   \n",
       "5             Омск    04 35-44         05 5-10           08 36+          6   \n",
       "6              Уфа    05 45-54        06 10-15           08 36+         10   \n",
       "7           Москва    04 35-44        13 45-50          05 7-12         10   \n",
       "8   СанктПетербург    04 35-44          04 1-5           08 36+         10   \n",
       "9        Волгоград    05 45-54        07 15-20           08 36+          9   \n",
       "10        Тольятти    04 35-44        09 25-30           08 36+         10   \n",
       "11          Рязань    02 16-24        06 10-15           08 36+          2   \n",
       "12          Казань    03 25-34        13 45-50           04 4-6         10   \n",
       "13          Казань    06 55-64         05 5-10         06 13-24          5   \n",
       "14  СанктПетербург    04 35-44         05 5-10           08 36+         10   \n",
       "\n",
       "     npc_group  \n",
       "0   сторонники  \n",
       "1   сторонники  \n",
       "2   сторонники  \n",
       "3   сторонники  \n",
       "4   сторонники  \n",
       "5      критики  \n",
       "6   сторонники  \n",
       "7   сторонники  \n",
       "8   сторонники  \n",
       "9   сторонники  \n",
       "10  сторонники  \n",
       "11     критики  \n",
       "12  сторонники  \n",
       "13     критики  \n",
       "14  сторонники  "
      ]
     },
     "execution_count": 4,
     "metadata": {},
     "output_type": "execute_result"
    }
   ],
   "source": [
    "df = pd.read_sql(query, engine)\n",
    "df.head(15)"
   ]
  },
  {
   "cell_type": "code",
   "execution_count": 5,
   "id": "278b3318",
   "metadata": {},
   "outputs": [],
   "source": [
    "df.to_csv('telecomm_csi_tableau.csv', index=False)"
   ]
  },
  {
   "cell_type": "markdown",
   "id": "d74186e7",
   "metadata": {},
   "source": [
    "###  Tableau Public dashboard:"
   ]
  },
  {
   "cell_type": "markdown",
   "id": "231dea3d",
   "metadata": {},
   "source": [
    "https://public.tableau.com/app/profile/german1314/viz/Telecomcompanydash/Dashboard1?publish=yes"
   ]
  },
  {
   "cell_type": "markdown",
   "id": "5c6cfbde",
   "metadata": {},
   "source": [
    "### Presentation:"
   ]
  },
  {
   "cell_type": "markdown",
   "id": "8b9c0082",
   "metadata": {},
   "source": [
    "https://1drv.ms/p/s!Av1D_sdJ6zeIhF7GsL6MPGvrl2Tr?e=fymuJe"
   ]
  },
  {
   "cell_type": "code",
   "execution_count": 6,
   "id": "82d2f6fa",
   "metadata": {},
   "outputs": [
    {
     "data": {
      "text/html": [
       "<div>\n",
       "<style scoped>\n",
       "    .dataframe tbody tr th:only-of-type {\n",
       "        vertical-align: middle;\n",
       "    }\n",
       "\n",
       "    .dataframe tbody tr th {\n",
       "        vertical-align: top;\n",
       "    }\n",
       "\n",
       "    .dataframe thead th {\n",
       "        text-align: right;\n",
       "    }\n",
       "</style>\n",
       "<table border=\"1\" class=\"dataframe\">\n",
       "  <thead>\n",
       "    <tr style=\"text-align: right;\">\n",
       "      <th>is_new</th>\n",
       "      <th>new</th>\n",
       "      <th>old</th>\n",
       "    </tr>\n",
       "    <tr>\n",
       "      <th>gender_segment</th>\n",
       "      <th></th>\n",
       "      <th></th>\n",
       "    </tr>\n",
       "  </thead>\n",
       "  <tbody>\n",
       "    <tr>\n",
       "      <th>female</th>\n",
       "      <td>0.387000</td>\n",
       "      <td>0.230023</td>\n",
       "    </tr>\n",
       "    <tr>\n",
       "      <th>male</th>\n",
       "      <td>0.325246</td>\n",
       "      <td>0.144461</td>\n",
       "    </tr>\n",
       "    <tr>\n",
       "      <th>none</th>\n",
       "      <td>0.235374</td>\n",
       "      <td>-0.404594</td>\n",
       "    </tr>\n",
       "  </tbody>\n",
       "</table>\n",
       "</div>"
      ],
      "text/plain": [
       "is_new               new       old\n",
       "gender_segment                    \n",
       "female          0.387000  0.230023\n",
       "male            0.325246  0.144461\n",
       "none            0.235374 -0.404594"
      ]
     },
     "metadata": {},
     "output_type": "display_data"
    }
   ],
   "source": [
    "d = df.assign(total_nps=lambda row: row['npc_group'].map({'сторонники': 1, 'нейтральные': 0, 'критики': -1}))\\\n",
    "  .pivot_table(index='gender_segment', columns='is_new', values='total_nps', aggfunc='mean')\n",
    "display(d)"
   ]
  },
  {
   "cell_type": "code",
   "execution_count": 7,
   "id": "1fa528e9",
   "metadata": {
    "scrolled": true
   },
   "outputs": [
    {
     "name": "stdout",
     "output_type": "stream",
     "text": [
      "Total_nps: 21.9%\n"
     ]
    }
   ],
   "source": [
    "\n",
    "total_nps = df.assign(total_nps=lambda row: row['npc_group'].map({'сторонники': 1, 'нейтральные': 0, 'критики': -1}))\\\n",
    "  ['total_nps'].mean()\n",
    "print(f\"Total_nps: {total_nps:.1%}\")"
   ]
  },
  {
   "cell_type": "markdown",
   "id": "6e2150ce",
   "metadata": {},
   "source": [
    "<hr style=\"border: 2px solid red;\" />"
   ]
  }
 ],
 "metadata": {
  "ExecuteTimeLog": [
   {
    "duration": 752,
    "start_time": "2021-10-03T17:40:52.731Z"
   },
   {
    "duration": 20,
    "start_time": "2021-10-03T17:40:53.486Z"
   },
   {
    "duration": 4,
    "start_time": "2021-10-03T17:41:04.638Z"
   },
   {
    "duration": 461,
    "start_time": "2021-10-03T17:41:04.912Z"
   },
   {
    "duration": 284,
    "start_time": "2021-10-03T17:41:05.376Z"
   },
   {
    "duration": 574,
    "start_time": "2021-10-06T07:55:05.029Z"
   },
   {
    "duration": 6,
    "start_time": "2021-10-06T07:55:05.605Z"
   },
   {
    "duration": 3,
    "start_time": "2021-10-06T07:55:14.685Z"
   },
   {
    "duration": 406,
    "start_time": "2021-10-06T07:55:15.522Z"
   },
   {
    "duration": 67,
    "start_time": "2021-10-06T07:55:15.929Z"
   },
   {
    "duration": 840,
    "start_time": "2021-10-07T07:54:04.647Z"
   },
   {
    "duration": 10,
    "start_time": "2021-10-07T07:54:05.490Z"
   },
   {
    "duration": 4,
    "start_time": "2021-10-07T07:54:05.544Z"
   },
   {
    "duration": 391,
    "start_time": "2021-10-07T07:54:06.237Z"
   },
   {
    "duration": 293,
    "start_time": "2021-10-07T07:54:06.654Z"
   },
   {
    "duration": 656,
    "start_time": "2022-03-16T12:24:20.992Z"
   },
   {
    "duration": 8,
    "start_time": "2022-03-16T12:24:22.700Z"
   },
   {
    "duration": 3,
    "start_time": "2022-03-16T12:24:24.784Z"
   },
   {
    "duration": 257,
    "start_time": "2022-03-16T12:24:25.771Z"
   },
   {
    "duration": 194,
    "start_time": "2022-03-16T12:24:27.451Z"
   },
   {
    "duration": 3,
    "start_time": "2022-03-16T12:29:13.097Z"
   },
   {
    "duration": 547,
    "start_time": "2022-03-16T12:29:14.010Z"
   },
   {
    "duration": 2,
    "start_time": "2022-03-16T12:30:03.446Z"
   },
   {
    "duration": 1020,
    "start_time": "2022-03-16T12:30:04.265Z"
   },
   {
    "duration": 3,
    "start_time": "2022-03-16T12:36:06.396Z"
   },
   {
    "duration": 333,
    "start_time": "2022-03-16T12:36:07.406Z"
   },
   {
    "duration": 3,
    "start_time": "2022-03-16T12:37:00.820Z"
   },
   {
    "duration": 323,
    "start_time": "2022-03-16T12:37:01.570Z"
   },
   {
    "duration": 594,
    "start_time": "2022-03-16T12:37:18.422Z"
   },
   {
    "duration": 2,
    "start_time": "2022-03-16T12:38:23.624Z"
   },
   {
    "duration": 274,
    "start_time": "2022-03-16T12:38:24.371Z"
   },
   {
    "duration": 3,
    "start_time": "2022-03-16T12:38:44.065Z"
   },
   {
    "duration": 1393,
    "start_time": "2022-03-16T12:38:44.864Z"
   },
   {
    "duration": 1588,
    "start_time": "2022-03-16T12:38:54.819Z"
   },
   {
    "duration": 1112,
    "start_time": "2022-03-16T12:39:01.289Z"
   },
   {
    "duration": 1225,
    "start_time": "2022-03-16T12:39:17.961Z"
   },
   {
    "duration": 3,
    "start_time": "2022-03-16T12:40:25.622Z"
   },
   {
    "duration": 1379,
    "start_time": "2022-03-16T12:40:26.484Z"
   },
   {
    "duration": 5,
    "start_time": "2022-03-16T12:40:42.712Z"
   },
   {
    "duration": 1336,
    "start_time": "2022-03-16T12:40:43.785Z"
   },
   {
    "duration": 3,
    "start_time": "2022-03-16T12:41:13.290Z"
   },
   {
    "duration": 1543,
    "start_time": "2022-03-16T12:41:13.906Z"
   },
   {
    "duration": 2,
    "start_time": "2022-03-16T12:41:45.670Z"
   },
   {
    "duration": 1557,
    "start_time": "2022-03-16T12:41:46.383Z"
   },
   {
    "duration": 3,
    "start_time": "2022-03-16T12:41:59.881Z"
   },
   {
    "duration": 2179,
    "start_time": "2022-03-16T12:42:00.694Z"
   },
   {
    "duration": 3,
    "start_time": "2022-03-16T12:45:15.547Z"
   },
   {
    "duration": 11,
    "start_time": "2022-03-16T12:45:42.831Z"
   },
   {
    "duration": 219,
    "start_time": "2022-03-16T12:45:43.992Z"
   },
   {
    "duration": 650,
    "start_time": "2022-03-16T12:45:50.911Z"
   },
   {
    "duration": 15,
    "start_time": "2022-03-16T12:45:52.250Z"
   },
   {
    "duration": 4,
    "start_time": "2022-03-16T12:45:53.056Z"
   },
   {
    "duration": 662,
    "start_time": "2022-03-16T12:46:21.750Z"
   },
   {
    "duration": 11,
    "start_time": "2022-03-16T12:46:23.241Z"
   },
   {
    "duration": 3,
    "start_time": "2022-03-16T12:46:23.971Z"
   },
   {
    "duration": 674,
    "start_time": "2022-03-16T12:46:45.746Z"
   },
   {
    "duration": 8,
    "start_time": "2022-03-16T12:46:47.627Z"
   },
   {
    "duration": 2,
    "start_time": "2022-03-16T12:48:25.156Z"
   },
   {
    "duration": 466,
    "start_time": "2022-03-16T12:48:26.566Z"
   },
   {
    "duration": 2,
    "start_time": "2022-03-16T12:49:26.152Z"
   },
   {
    "duration": 371,
    "start_time": "2022-03-16T12:49:28.742Z"
   },
   {
    "duration": 871,
    "start_time": "2022-03-16T14:44:06.551Z"
   },
   {
    "duration": 12,
    "start_time": "2022-03-16T14:44:08.697Z"
   },
   {
    "duration": 4,
    "start_time": "2022-03-16T14:44:09.525Z"
   },
   {
    "duration": 1051,
    "start_time": "2022-03-16T14:44:10.529Z"
   },
   {
    "duration": 3,
    "start_time": "2022-03-16T14:44:24.427Z"
   },
   {
    "duration": 5398,
    "start_time": "2022-03-16T14:44:25.184Z"
   },
   {
    "duration": 3,
    "start_time": "2022-03-16T14:45:13.178Z"
   },
   {
    "duration": 5415,
    "start_time": "2022-03-16T14:45:14.024Z"
   },
   {
    "duration": 3,
    "start_time": "2022-03-16T14:48:05.311Z"
   },
   {
    "duration": 5941,
    "start_time": "2022-03-16T14:48:06.009Z"
   },
   {
    "duration": 4,
    "start_time": "2022-03-16T14:52:04.246Z"
   },
   {
    "duration": 896,
    "start_time": "2022-03-16T14:52:04.926Z"
   },
   {
    "duration": 4,
    "start_time": "2022-03-16T14:52:14.772Z"
   },
   {
    "duration": 857,
    "start_time": "2022-03-16T14:52:15.481Z"
   },
   {
    "duration": 3,
    "start_time": "2022-03-16T14:52:36.847Z"
   },
   {
    "duration": 5625,
    "start_time": "2022-03-16T14:52:37.458Z"
   },
   {
    "duration": 4,
    "start_time": "2022-03-16T14:57:52.278Z"
   },
   {
    "duration": 5303,
    "start_time": "2022-03-16T14:57:53.500Z"
   },
   {
    "duration": 3,
    "start_time": "2022-03-16T14:58:12.913Z"
   },
   {
    "duration": 4478,
    "start_time": "2022-03-16T14:58:13.783Z"
   },
   {
    "duration": 4464,
    "start_time": "2022-03-16T14:58:41.500Z"
   },
   {
    "duration": 4,
    "start_time": "2022-03-16T14:59:02.659Z"
   },
   {
    "duration": 4375,
    "start_time": "2022-03-16T14:59:03.772Z"
   },
   {
    "duration": 4,
    "start_time": "2022-03-16T15:02:35.838Z"
   },
   {
    "duration": 914,
    "start_time": "2022-03-16T15:02:36.675Z"
   },
   {
    "duration": 4,
    "start_time": "2022-03-16T15:02:45.438Z"
   },
   {
    "duration": 4191,
    "start_time": "2022-03-16T15:02:46.265Z"
   },
   {
    "duration": 4,
    "start_time": "2022-03-16T15:03:09.098Z"
   },
   {
    "duration": 4369,
    "start_time": "2022-03-16T15:03:09.403Z"
   },
   {
    "duration": 3,
    "start_time": "2022-03-16T15:05:54.720Z"
   },
   {
    "duration": 851,
    "start_time": "2022-03-16T15:05:55.478Z"
   },
   {
    "duration": 4,
    "start_time": "2022-03-16T15:06:02.744Z"
   },
   {
    "duration": 4393,
    "start_time": "2022-03-16T15:06:03.198Z"
   },
   {
    "duration": 118,
    "start_time": "2022-03-16T15:07:29.618Z"
   },
   {
    "duration": 428,
    "start_time": "2022-03-16T15:08:14.654Z"
   },
   {
    "duration": 4,
    "start_time": "2022-03-16T15:10:36.133Z"
   },
   {
    "duration": 638,
    "start_time": "2022-03-16T15:10:36.557Z"
   },
   {
    "duration": 4,
    "start_time": "2022-03-16T15:11:01.940Z"
   },
   {
    "duration": 642,
    "start_time": "2022-03-16T15:11:02.580Z"
   },
   {
    "duration": 4,
    "start_time": "2022-03-16T15:11:55.619Z"
   },
   {
    "duration": 883,
    "start_time": "2022-03-16T15:11:56.191Z"
   },
   {
    "duration": 4,
    "start_time": "2022-03-16T15:12:07.336Z"
   },
   {
    "duration": 4300,
    "start_time": "2022-03-16T15:12:07.908Z"
   },
   {
    "duration": 4,
    "start_time": "2022-03-16T15:12:35.165Z"
   },
   {
    "duration": 895,
    "start_time": "2022-03-16T15:12:35.776Z"
   },
   {
    "duration": 4,
    "start_time": "2022-03-16T15:12:48.033Z"
   },
   {
    "duration": 4125,
    "start_time": "2022-03-16T15:12:48.525Z"
   },
   {
    "duration": 4,
    "start_time": "2022-03-16T15:14:40.335Z"
   },
   {
    "duration": 931,
    "start_time": "2022-03-16T15:14:53.284Z"
   },
   {
    "duration": 11,
    "start_time": "2022-03-16T15:14:56.011Z"
   },
   {
    "duration": 4,
    "start_time": "2022-03-16T15:14:56.779Z"
   },
   {
    "duration": 6667,
    "start_time": "2022-03-16T15:14:57.487Z"
   },
   {
    "duration": 270,
    "start_time": "2022-03-16T15:17:30.402Z"
   },
   {
    "duration": 64254,
    "start_time": "2022-03-16T15:18:54.850Z"
   },
   {
    "duration": 31,
    "start_time": "2022-03-16T15:20:22.758Z"
   },
   {
    "duration": 3,
    "start_time": "2022-03-16T15:24:34.379Z"
   },
   {
    "duration": 1013,
    "start_time": "2022-03-16T15:24:36.041Z"
   },
   {
    "duration": 3,
    "start_time": "2022-03-16T15:25:20.092Z"
   },
   {
    "duration": 861,
    "start_time": "2022-03-16T15:25:20.732Z"
   },
   {
    "duration": 3,
    "start_time": "2022-03-16T15:25:51.482Z"
   },
   {
    "duration": 5459,
    "start_time": "2022-03-16T15:25:52.072Z"
   },
   {
    "duration": 54390,
    "start_time": "2022-03-16T15:26:31.940Z"
   },
   {
    "duration": 43,
    "start_time": "2022-03-16T15:27:41.651Z"
   },
   {
    "duration": 5,
    "start_time": "2022-03-16T15:32:19.217Z"
   },
   {
    "duration": 4674,
    "start_time": "2022-03-16T15:32:19.728Z"
   },
   {
    "duration": 4,
    "start_time": "2022-03-16T15:33:20.884Z"
   },
   {
    "duration": 4983,
    "start_time": "2022-03-16T15:33:21.336Z"
   },
   {
    "duration": 4934,
    "start_time": "2022-03-16T15:33:46.158Z"
   },
   {
    "duration": 6680,
    "start_time": "2022-03-16T15:34:09.681Z"
   },
   {
    "duration": 5,
    "start_time": "2022-03-16T15:38:37.098Z"
   },
   {
    "duration": 10264,
    "start_time": "2022-03-16T15:38:37.580Z"
   },
   {
    "duration": 5607,
    "start_time": "2022-03-16T15:38:57.007Z"
   },
   {
    "duration": 8279,
    "start_time": "2022-03-16T15:39:20.697Z"
   },
   {
    "duration": 7582,
    "start_time": "2022-03-16T15:40:31.716Z"
   },
   {
    "duration": 4,
    "start_time": "2022-03-16T15:43:04.262Z"
   },
   {
    "duration": 4,
    "start_time": "2022-03-16T15:43:05.141Z"
   },
   {
    "duration": 4,
    "start_time": "2022-03-16T15:43:06.015Z"
   },
   {
    "duration": 888,
    "start_time": "2022-03-16T15:43:38.760Z"
   },
   {
    "duration": 11,
    "start_time": "2022-03-16T15:43:42.777Z"
   },
   {
    "duration": 4,
    "start_time": "2022-03-16T15:43:44.372Z"
   },
   {
    "duration": 9400,
    "start_time": "2022-03-16T15:43:46.735Z"
   },
   {
    "duration": 8496,
    "start_time": "2022-03-16T15:43:58.194Z"
   },
   {
    "duration": 859,
    "start_time": "2022-03-16T15:44:44.619Z"
   },
   {
    "duration": 11,
    "start_time": "2022-03-16T15:44:46.147Z"
   },
   {
    "duration": 4,
    "start_time": "2022-03-16T15:44:47.663Z"
   },
   {
    "duration": 5782,
    "start_time": "2022-03-16T15:44:49.504Z"
   },
   {
    "duration": 7647,
    "start_time": "2022-03-16T15:44:56.761Z"
   },
   {
    "duration": 4,
    "start_time": "2022-03-16T15:50:11.997Z"
   },
   {
    "duration": 5982,
    "start_time": "2022-03-16T15:50:12.705Z"
   },
   {
    "duration": 7474,
    "start_time": "2022-03-16T15:50:20.383Z"
   },
   {
    "duration": 5582,
    "start_time": "2022-03-16T16:29:52.339Z"
   },
   {
    "duration": 4,
    "start_time": "2022-03-16T16:30:14.197Z"
   },
   {
    "duration": 1019,
    "start_time": "2022-03-16T16:30:15.044Z"
   },
   {
    "duration": 4,
    "start_time": "2022-03-16T16:30:22.576Z"
   },
   {
    "duration": 6133,
    "start_time": "2022-03-16T16:30:23.255Z"
   },
   {
    "duration": 8104,
    "start_time": "2022-03-16T16:30:34.559Z"
   },
   {
    "duration": 576,
    "start_time": "2022-03-17T04:00:32.345Z"
   },
   {
    "duration": 5,
    "start_time": "2022-03-17T04:00:32.923Z"
   },
   {
    "duration": 2,
    "start_time": "2022-03-17T04:00:32.930Z"
   },
   {
    "duration": 4178,
    "start_time": "2022-03-17T04:00:32.934Z"
   },
   {
    "duration": 4864,
    "start_time": "2022-03-17T04:00:37.113Z"
   },
   {
    "duration": 3,
    "start_time": "2022-03-17T04:07:02.365Z"
   },
   {
    "duration": 787,
    "start_time": "2022-03-17T08:12:18.787Z"
   },
   {
    "duration": 18,
    "start_time": "2022-03-17T08:12:20.338Z"
   },
   {
    "duration": 6,
    "start_time": "2022-03-17T08:12:21.698Z"
   },
   {
    "duration": 543,
    "start_time": "2022-03-17T08:12:24.591Z"
   },
   {
    "duration": 4,
    "start_time": "2022-03-17T08:14:44.198Z"
   },
   {
    "duration": 354,
    "start_time": "2022-03-17T08:14:44.915Z"
   },
   {
    "duration": 4,
    "start_time": "2022-03-17T08:16:40.863Z"
   },
   {
    "duration": 355,
    "start_time": "2022-03-17T08:16:41.697Z"
   },
   {
    "duration": 4,
    "start_time": "2022-03-17T08:17:00.055Z"
   },
   {
    "duration": 5860,
    "start_time": "2022-03-17T08:17:00.606Z"
   },
   {
    "duration": 4,
    "start_time": "2022-03-17T08:17:37.424Z"
   },
   {
    "duration": 6166,
    "start_time": "2022-03-17T08:17:38.031Z"
   },
   {
    "duration": 5915,
    "start_time": "2022-03-17T08:17:51.502Z"
   },
   {
    "duration": 509,
    "start_time": "2022-03-18T03:54:36.586Z"
   },
   {
    "duration": 22,
    "start_time": "2022-03-18T03:54:37.096Z"
   },
   {
    "duration": 3,
    "start_time": "2022-03-18T03:54:37.120Z"
   },
   {
    "duration": 5363,
    "start_time": "2022-03-18T03:54:37.124Z"
   },
   {
    "duration": 3883,
    "start_time": "2022-03-18T03:54:42.488Z"
   },
   {
    "duration": 22,
    "start_time": "2022-03-18T04:10:28.197Z"
   },
   {
    "duration": 3898,
    "start_time": "2022-03-18T04:10:54.177Z"
   },
   {
    "duration": 663,
    "start_time": "2022-03-18T04:11:07.891Z"
   },
   {
    "duration": 650,
    "start_time": "2022-03-18T04:11:24.323Z"
   },
   {
    "duration": 249,
    "start_time": "2022-03-18T04:11:35.397Z"
   },
   {
    "duration": 859,
    "start_time": "2022-03-18T04:11:59.664Z"
   },
   {
    "duration": 422,
    "start_time": "2022-03-18T04:12:14.831Z"
   },
   {
    "duration": 145,
    "start_time": "2022-03-18T04:12:57.893Z"
   },
   {
    "duration": 5,
    "start_time": "2022-03-18T04:14:07.276Z"
   },
   {
    "duration": 418,
    "start_time": "2022-03-18T04:14:46.224Z"
   },
   {
    "duration": 72,
    "start_time": "2022-03-18T04:15:06.087Z"
   },
   {
    "duration": 837,
    "start_time": "2022-03-18T04:15:13.118Z"
   },
   {
    "duration": 424,
    "start_time": "2022-03-18T04:15:14.892Z"
   },
   {
    "duration": 652,
    "start_time": "2022-03-18T07:42:14.393Z"
   },
   {
    "duration": 26,
    "start_time": "2022-03-18T07:42:15.887Z"
   },
   {
    "duration": 4,
    "start_time": "2022-03-18T07:42:17.384Z"
   },
   {
    "duration": 8372,
    "start_time": "2022-03-18T07:42:18.147Z"
   },
   {
    "duration": 4,
    "start_time": "2022-03-18T07:43:03.929Z"
   },
   {
    "duration": 6538,
    "start_time": "2022-03-18T07:43:05.024Z"
   },
   {
    "duration": 4,
    "start_time": "2022-03-18T07:43:26.605Z"
   },
   {
    "duration": 6772,
    "start_time": "2022-03-18T07:43:28.332Z"
   },
   {
    "duration": 105,
    "start_time": "2022-03-18T08:18:45.782Z"
   },
   {
    "duration": 100,
    "start_time": "2022-03-18T08:19:23.239Z"
   },
   {
    "duration": 522,
    "start_time": "2022-03-19T03:57:31.906Z"
   },
   {
    "duration": 9,
    "start_time": "2022-03-19T03:57:32.430Z"
   },
   {
    "duration": 3,
    "start_time": "2022-03-19T03:57:32.440Z"
   },
   {
    "duration": 5217,
    "start_time": "2022-03-19T03:57:32.444Z"
   },
   {
    "duration": 3388,
    "start_time": "2022-03-19T03:57:37.663Z"
   },
   {
    "duration": 2093,
    "start_time": "2022-03-19T03:57:41.053Z"
   },
   {
    "duration": 489,
    "start_time": "2022-03-19T03:57:43.148Z"
   },
   {
    "duration": 660,
    "start_time": "2022-03-19T08:58:30.477Z"
   },
   {
    "duration": 14,
    "start_time": "2022-03-19T08:58:31.869Z"
   },
   {
    "duration": 4,
    "start_time": "2022-03-19T08:58:33.822Z"
   },
   {
    "duration": 6185,
    "start_time": "2022-03-19T08:58:34.950Z"
   },
   {
    "duration": 5636,
    "start_time": "2022-03-19T08:58:42.430Z"
   },
   {
    "duration": 516,
    "start_time": "2022-03-20T04:01:25.999Z"
   },
   {
    "duration": 9,
    "start_time": "2022-03-20T04:01:26.517Z"
   },
   {
    "duration": 8,
    "start_time": "2022-03-20T04:01:26.530Z"
   },
   {
    "duration": 5118,
    "start_time": "2022-03-20T04:01:26.540Z"
   },
   {
    "duration": 3071,
    "start_time": "2022-03-20T04:01:31.660Z"
   },
   {
    "duration": 2090,
    "start_time": "2022-03-20T04:01:34.732Z"
   },
   {
    "duration": 502,
    "start_time": "2022-03-20T04:01:36.824Z"
   }
  ],
  "kernelspec": {
   "display_name": "Python 3 (ipykernel)",
   "language": "python",
   "name": "python3"
  },
  "language_info": {
   "codemirror_mode": {
    "name": "ipython",
    "version": 3
   },
   "file_extension": ".py",
   "mimetype": "text/x-python",
   "name": "python",
   "nbconvert_exporter": "python",
   "pygments_lexer": "ipython3",
   "version": "3.7.6"
  },
  "toc": {
   "base_numbering": 1,
   "nav_menu": {},
   "number_sections": true,
   "sideBar": true,
   "skip_h1_title": true,
   "title_cell": "Table of Contents",
   "title_sidebar": "Contents",
   "toc_cell": false,
   "toc_position": {},
   "toc_section_display": true,
   "toc_window_display": false
  }
 },
 "nbformat": 4,
 "nbformat_minor": 5
}
